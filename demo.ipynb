{
 "cells": [
  {
   "cell_type": "code",
   "execution_count": null,
   "id": "c507fe39-6337-4ff7-bcc5-467162913af5",
   "metadata": {},
   "outputs": [],
   "source": [
    "from backtester.data import priceloader_yf\n",
    "from backtester.strategies import sma_crossover, momentum, mean_reversion\n",
    "from backtester.engine import backtest_single\n",
    "from backtester.metrics import sharpe, max_drawdown\n",
    "from backtester.plot import plot_equity\n",
    "import matplotlib.pyplot as plt\n"
   ]
  },
  {
   "cell_type": "code",
   "execution_count": null,
   "id": "edc9fef3-f329-480c-bfed-01538d3c2249",
   "metadata": {},
   "outputs": [],
   "source": [
    "aapl = get_price_data(\"AAPL\", start=\"2018-01-01\")\n",
    "aapl.head()\n"
   ]
  },
  {
   "cell_type": "code",
   "execution_count": null,
   "id": "ed36143f-63c8-409c-80d7-eadef0479a03",
   "metadata": {},
   "outputs": [],
   "source": [
    "sig = sma_crossover(aapl, fast=20, slow=50)\n",
    "res = backtest_single(aapl, sig)\n",
    "\n",
    "print(\"Sharpe:\", sharpe(res[\"net\"]))\n",
    "print(\"Max Drawdown:\", max_drawdown(res[\"equity\"]))\n",
    "plot_equity(res, title=\"SMA(20,50) on AAPL\")\n",
    "plt.show()\n"
   ]
  },
  {
   "cell_type": "code",
   "execution_count": null,
   "id": "263e23a2-09f0-444e-b810-407bbda9e4c0",
   "metadata": {},
   "outputs": [],
   "source": [
    "tests = {\n",
    "    \"SMA(20,50)\": sma_crossover(aapl, 20, 50),\n",
    "    \"Momentum(120)\": momentum(aapl, 120),\n",
    "    \"MeanRev(20)\": mean_reversion(aapl, 20, 1.0),\n",
    "}\n",
    "\n",
    "for name, sig in tests.items():\n",
    "    res = backtest_single(aapl, sig)\n",
    "    print(name, \"Sharpe:\", sharpe(res[\"net\"]))\n"
   ]
  }
 ],
 "metadata": {
  "kernelspec": {
   "display_name": "Python 3 (ipykernel)",
   "language": "python",
   "name": "python3"
  },
  "language_info": {
   "codemirror_mode": {
    "name": "ipython",
    "version": 3
   },
   "file_extension": ".py",
   "mimetype": "text/x-python",
   "name": "python",
   "nbconvert_exporter": "python",
   "pygments_lexer": "ipython3",
   "version": "3.13.7"
  }
 },
 "nbformat": 4,
 "nbformat_minor": 5
}
